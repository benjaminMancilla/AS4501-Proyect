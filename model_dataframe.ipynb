{
 "cells": [
  {
   "cell_type": "code",
   "execution_count": 2,
   "id": "ef0607aa",
   "metadata": {},
   "outputs": [],
   "source": [
    "import pandas as pd\n",
    "import os\n",
    "import glob\n",
    "import ast\n",
    "import numpy as np\n",
    "import matplotlib.pyplot as plt\n",
    "from alerce.core import Alerce\n",
    "from ztfquery import lightcurve\n",
    "from ztfquery.io import set_account\n",
    "import requests"
   ]
  },
  {
   "cell_type": "code",
   "execution_count": 3,
   "id": "40b784c2",
   "metadata": {},
   "outputs": [],
   "source": [
    "set_account(\"irsa\")"
   ]
  },
  {
   "cell_type": "code",
   "execution_count": 4,
   "id": "bbbceb58",
   "metadata": {},
   "outputs": [],
   "source": [
    "alerce = Alerce(ZTF_API_URL=\"https://api.alerce.online/ztf/v1\")"
   ]
  },
  {
   "cell_type": "code",
   "execution_count": 7,
   "id": "af70014e",
   "metadata": {},
   "outputs": [],
   "source": [
    "def get_numeric_id(oid: str) -> int:\n",
    "    \"\"\"\n",
    "    Consulta la tabla de objetos de ALeRCE para convertir el OID (cadena)\n",
    "    en el objectid numérico usado por IRSA.\n",
    "    \"\"\"\n",
    "    alerce = Alerce(ZTF_API_URL=\"https://api.alerce.online/ztf/v1\")\n",
    "    # La tabla se llama 'objects'; devuelve la columna 'objectid'\n",
    "    query = f\"SELECT objectid FROM objects WHERE oid = '{oid}'\"\n",
    "    df = alerce.send_query(query, format=\"pandas\")\n",
    "    if df.empty:\n",
    "        raise RuntimeError(f\"No se encontró objectid para {oid}\")\n",
    "    return int(df.loc[0, \"objectid\"])"
   ]
  },
  {
   "cell_type": "code",
   "execution_count": 23,
   "id": "dda5d507",
   "metadata": {},
   "outputs": [],
   "source": [
    "def download_lightcurve_by_oid(oid: str,\n",
    "                               radius_arcsec: float = 3.0,\n",
    "                               dr: str = \"ztf_dr5\",\n",
    "                               outdir: str = \".\") -> str:\n",
    "    \"\"\"\n",
    "    1. Usa query_object para obtener meanra/meandec\n",
    "    2. Descarga la curva de luz de IRSA-ZTF-LC usando POS=circle RA DEC RADIUS,\n",
    "       filtra solo bandas 'g' y 'r' con BANDNAME=g,r, y guarda el CSV.\n",
    "    \"\"\"\n",
    "    # 1. Obtener posición desde ALeRCE\n",
    "    client = Alerce()\n",
    "    df_obj = client.query_object(oid, format=\"pandas\")\n",
    "    if df_obj.empty:\n",
    "        raise RuntimeError(f\"No se encontró información para {oid}\")\n",
    "\n",
    "    ra  = float(df_obj.loc[0, \"meanra\"])\n",
    "    dec = float(df_obj.loc[0, \"meandec\"])\n",
    "    radius_deg = radius_arcsec / 3600.0\n",
    "\n",
    "    # 2. Preparar la consulta con BANDNAME=g,r\n",
    "    base_url = \"https://irsa.ipac.caltech.edu/cgi-bin/ZTF/nph_light_curves\"\n",
    "    params = {\n",
    "        # POS must be \"circle RA DEC RADIUS\" (elements separated by single spaces) :contentReference[oaicite:0]{index=0}\n",
    "        \"POS\":        f\"circle {ra} {dec} {radius_deg}\",\n",
    "        # Filter only g- and r-band data; comma-separated list :contentReference[oaicite:1]{index=1}\n",
    "        \"BANDNAME\":   \"g,r\",\n",
    "        # Select the desired Data Release (ztf_dr18 here) :contentReference[oaicite:2]{index=2}\n",
    "        \"COLLECTION\": dr,\n",
    "        \"FORMAT\":     \"csv\"\n",
    "    }\n",
    "\n",
    "    # 3. Ejecutar la petición y guardar el CSV\n",
    "    resp = requests.get(base_url, params=params)\n",
    "    resp.raise_for_status()\n",
    "\n",
    "    fn   = f\"{oid}_{dr}_lightcurve.csv\"\n",
    "    path = os.path.join(outdir, fn)\n",
    "    with open(path, \"wb\") as f:\n",
    "        f.write(resp.content)\n",
    "\n",
    "    print(f\"✔ Curva de luz (g,r) descargada en: {path}\")\n",
    "    return path"
   ]
  },
  {
   "cell_type": "code",
   "execution_count": 24,
   "id": "25986941",
   "metadata": {},
   "outputs": [
    {
     "ename": "HTTPError",
     "evalue": "400 Client Error: Bad Request for url: https://irsa.ipac.caltech.edu/cgi-bin/ZTF/nph_light_curves?POS=circle+86.59847642708105+20.064870597379812+0.0008333333333333334&BANDNAME=g%2Cr&COLLECTION=ztf_dr5&FORMAT=csv",
     "output_type": "error",
     "traceback": [
      "\u001b[31m---------------------------------------------------------------------------\u001b[39m",
      "\u001b[31mHTTPError\u001b[39m                                 Traceback (most recent call last)",
      "\u001b[36mCell\u001b[39m\u001b[36m \u001b[39m\u001b[32mIn[24]\u001b[39m\u001b[32m, line 1\u001b[39m\n\u001b[32m----> \u001b[39m\u001b[32m1\u001b[39m download_lightcurve_by_oid(\u001b[33m\"\u001b[39m\u001b[33mZTF20acxqjzv\u001b[39m\u001b[33m\"\u001b[39m, outdir=\u001b[33m\"\u001b[39m\u001b[33mdata\u001b[39m\u001b[33m\"\u001b[39m)\n",
      "\u001b[36mCell\u001b[39m\u001b[36m \u001b[39m\u001b[32mIn[23]\u001b[39m\u001b[32m, line 34\u001b[39m, in \u001b[36mdownload_lightcurve_by_oid\u001b[39m\u001b[34m(oid, radius_arcsec, dr, outdir)\u001b[39m\n\u001b[32m     32\u001b[39m \u001b[38;5;66;03m# 3. Ejecutar la petición y guardar el CSV\u001b[39;00m\n\u001b[32m     33\u001b[39m resp = requests.get(base_url, params=params)\n\u001b[32m---> \u001b[39m\u001b[32m34\u001b[39m resp.raise_for_status()\n\u001b[32m     36\u001b[39m fn   = \u001b[33mf\u001b[39m\u001b[33m\"\u001b[39m\u001b[38;5;132;01m{\u001b[39;00moid\u001b[38;5;132;01m}\u001b[39;00m\u001b[33m_\u001b[39m\u001b[38;5;132;01m{\u001b[39;00mdr\u001b[38;5;132;01m}\u001b[39;00m\u001b[33m_lightcurve.csv\u001b[39m\u001b[33m\"\u001b[39m\n\u001b[32m     37\u001b[39m path = os.path.join(outdir, fn)\n",
      "\u001b[36mFile \u001b[39m\u001b[32mc:\\Users\\Benjamin\\Miniconda3\\envs\\astroinf\\Lib\\site-packages\\requests\\models.py:1026\u001b[39m, in \u001b[36mResponse.raise_for_status\u001b[39m\u001b[34m(self)\u001b[39m\n\u001b[32m   1021\u001b[39m     http_error_msg = (\n\u001b[32m   1022\u001b[39m         \u001b[33mf\u001b[39m\u001b[33m\"\u001b[39m\u001b[38;5;132;01m{\u001b[39;00m\u001b[38;5;28mself\u001b[39m.status_code\u001b[38;5;132;01m}\u001b[39;00m\u001b[33m Server Error: \u001b[39m\u001b[38;5;132;01m{\u001b[39;00mreason\u001b[38;5;132;01m}\u001b[39;00m\u001b[33m for url: \u001b[39m\u001b[38;5;132;01m{\u001b[39;00m\u001b[38;5;28mself\u001b[39m.url\u001b[38;5;132;01m}\u001b[39;00m\u001b[33m\"\u001b[39m\n\u001b[32m   1023\u001b[39m     )\n\u001b[32m   1025\u001b[39m \u001b[38;5;28;01mif\u001b[39;00m http_error_msg:\n\u001b[32m-> \u001b[39m\u001b[32m1026\u001b[39m     \u001b[38;5;28;01mraise\u001b[39;00m HTTPError(http_error_msg, response=\u001b[38;5;28mself\u001b[39m)\n",
      "\u001b[31mHTTPError\u001b[39m: 400 Client Error: Bad Request for url: https://irsa.ipac.caltech.edu/cgi-bin/ZTF/nph_light_curves?POS=circle+86.59847642708105+20.064870597379812+0.0008333333333333334&BANDNAME=g%2Cr&COLLECTION=ztf_dr5&FORMAT=csv"
     ]
    }
   ],
   "source": [
    "download_lightcurve_by_oid(\"ZTF20acxqjzv\", outdir=\"data\")"
   ]
  },
  {
   "cell_type": "code",
   "execution_count": 30,
   "id": "a899e9a9",
   "metadata": {},
   "outputs": [],
   "source": [
    "oids = [\n",
    "    \"ZTF18accqogs\",\n",
    "    \"ZTF19aakyhxi\",\n",
    "    \"ZTF19abyylzv\",\n",
    "    \"ZTF19acyfpno\",\n",
    "]\n",
    "alerce = Alerce()\n",
    "objects = alerce.query_objects(oid=oids, format=\"pandas\")"
   ]
  },
  {
   "cell_type": "code",
   "execution_count": 32,
   "id": "7c04a5d7",
   "metadata": {},
   "outputs": [
    {
     "data": {
      "text/plain": [
       "Index(['oid', 'ndethist', 'ncovhist', 'mjdstarthist', 'mjdendhist',\n",
       "       'corrected', 'stellar', 'ndet', 'g_r_max', 'g_r_max_corr', 'g_r_mean',\n",
       "       'g_r_mean_corr', 'firstmjd', 'lastmjd', 'deltajd', 'meanra', 'meandec',\n",
       "       'sigmara', 'sigmadec', 'class', 'classifier', 'probability',\n",
       "       'step_id_corr'],\n",
       "      dtype='object')"
      ]
     },
     "execution_count": 32,
     "metadata": {},
     "output_type": "execute_result"
    }
   ],
   "source": [
    "objects.columns"
   ]
  },
  {
   "cell_type": "code",
   "execution_count": 25,
   "id": "fea5df05",
   "metadata": {},
   "outputs": [
    {
     "name": "stdout",
     "output_type": "stream",
     "text": [
      "              veto_date label\n",
      "oid                          \n",
      "ZTF23abgzrmz 2023-09-26   bad\n",
      "ZTF23abhayrq 2023-09-26   bad\n",
      "ZTF23abgovnz 2023-09-26   bad\n",
      "ZTF23abfwupu 2023-09-24   bad\n",
      "ZTF23abgouvq 2023-09-26   bad\n",
      "veto_date    datetime64[ns]\n",
      "label              category\n",
      "dtype: object\n"
     ]
    }
   ],
   "source": [
    "csv_file = \"veto_summary.csv\"\n",
    "\n",
    "df_summary = pd.read_csv(\n",
    "    csv_file,\n",
    "    parse_dates=[\"veto_date\"],\n",
    "    dtype={\"oid\": str, \"label\": \"category\"}\n",
    ")\n",
    "df_summary.set_index(\"oid\", inplace=True)\n",
    "\n",
    "# Ver las primeras filas para comprobar\n",
    "print(df_summary.head())\n",
    "print(df_summary.dtypes)"
   ]
  },
  {
   "cell_type": "code",
   "execution_count": 7,
   "id": "a66980df",
   "metadata": {},
   "outputs": [],
   "source": [
    "def procesar_folder(folder_path):\n",
    "    all_dfs = []\n",
    "    pattern = os.path.join(folder_path, \"*_detections.csv\")\n",
    "    for filepath in glob.glob(pattern):\n",
    "        # Obtener oid desde el nombre de archivo: e.g. \"12345_detections.csv\"\n",
    "        oid = os.path.basename(filepath).split(\"_\")[0]\n",
    "        if oid not in df_summary.index:\n",
    "            # OID no está en el summary; opcionalmente saltar o avisar\n",
    "            continue\n",
    "\n",
    "        # Leer CSV de detecciones; suponemos que hay una columna 'detections'\n",
    "        df_det = pd.read_csv(filepath, dtype={\"detections\": str})\n",
    "        if \"detections\" not in df_det.columns:\n",
    "            raise ValueError(f\"El archivo {filepath} no contiene la columna 'detections'\")\n",
    "\n",
    "        # Convertir cada fila de texto a lista de dicts\n",
    "        registros = []\n",
    "        for det_str in df_det[\"detections\"]:\n",
    "            # ast.literal_eval para convertir string a lista de dicts\n",
    "            try:\n",
    "                lista = ast.literal_eval(det_str)\n",
    "            except Exception as e:\n",
    "                raise ValueError(f\"Error al parsear detections en {filepath}: {e}\")\n",
    "            registros.extend(lista)\n",
    "\n",
    "        # Normalizar lista de dicts a DataFrame\n",
    "        df_norm = pd.json_normalize(registros)\n",
    "        # Añadir columnas de contexto\n",
    "        df_norm[\"oid\"] = oid\n",
    "        df_norm[\"veto_date\"] = df_summary.loc[oid, \"veto_date\"]\n",
    "        df_norm[\"label\"]     = df_summary.loc[oid, \"label\"]\n",
    "        all_dfs.append(df_norm)\n",
    "\n",
    "    # Concatenar todos de este folder (puede estar vacío)\n",
    "    return pd.concat(all_dfs, ignore_index=True) if all_dfs else pd.DataFrame()"
   ]
  },
  {
   "cell_type": "code",
   "execution_count": 26,
   "id": "05225aa5",
   "metadata": {},
   "outputs": [],
   "source": [
    "\n",
    "stats_file   = \"statistics_lightcurve_alerts.csv\"   # oid,n_points,mag_min,...,excess_variance\n",
    "lc_file      = \"all_alert_lightcurves_clean.csv\"   # oid,mjd,magpsf,sigmapsf,fid,source\n",
    "summary_file = \"veto_summary.csv\"                  # oid,veto_date,label\n",
    "\n",
    "df_stats   = pd.read_csv(stats_file,   dtype={\"oid\": str})\n",
    "df_lc      = pd.read_csv(lc_file,      dtype={\"oid\": str})\n",
    "df_summary = pd.read_csv(summary_file, parse_dates=[\"veto_date\"], dtype={\"oid\": str, \"label\": \"category\"})"
   ]
  },
  {
   "cell_type": "code",
   "execution_count": 27,
   "id": "5a022874",
   "metadata": {},
   "outputs": [],
   "source": [
    "# Merge\n",
    "df_consolidated = (\n",
    "    df_lc\n",
    "    .merge(df_stats,   on=\"oid\", how=\"left\")\n",
    "    .merge(df_summary, on=\"oid\", how=\"left\")\n",
    ")\n",
    "\n",
    "cols_order = (\n",
    "    [\"oid\", \"veto_date\", \"label\"]\n",
    "    + [c for c in df_stats.columns if c != \"oid\"]\n",
    "    + [c for c in df_lc.columns    if c not in (\"oid\",)]\n",
    ")\n",
    "\n",
    "other_cols = [c for c in df_consolidated.columns if c not in cols_order]\n",
    "df_consolidated = df_consolidated[cols_order + other_cols]"
   ]
  },
  {
   "cell_type": "code",
   "execution_count": 28,
   "id": "840fafdd",
   "metadata": {},
   "outputs": [
    {
     "name": "stdout",
     "output_type": "stream",
     "text": [
      "Archivo combinado guardado en: consolidated.csv\n"
     ]
    }
   ],
   "source": [
    "output_file = \"consolidated.csv\"\n",
    "df_consolidated.to_csv(output_file, index=False)\n",
    "\n",
    "print(f\"Archivo combinado guardado en: {output_file}\")"
   ]
  },
  {
   "cell_type": "code",
   "execution_count": 40,
   "id": "2c4a789f",
   "metadata": {},
   "outputs": [],
   "source": [
    "# Getting detections for an object\n",
    "detections = alerce.query_detections(\"ZTF18abbuksn\",\n",
    "                                     format=\"json\")\n",
    "\n",
    "# Getting non detections for an object\n",
    "non_detections = alerce.query_non_detections(\"ZTF18abbuksn\",\n",
    "                                             format=\"json\")\n",
    "\n",
    "# Getting forced photometry for an object\n",
    "non_detections_forced = alerce.query_forced_photometry(\"ZTF18abbuksn\",\n",
    "                                             format=\"json\")\n",
    "# Getting lightcurve for an object\n",
    "lightcurve = alerce.query_lightcurve(\"ZTF18abbuksn\",\n",
    "                                     format=\"json\")"
   ]
  },
  {
   "cell_type": "code",
   "execution_count": 39,
   "id": "7b33d13e",
   "metadata": {},
   "outputs": [
    {
     "data": {
      "text/plain": [
       "dict_keys(['tid', 'mjd', 'candid', 'fid', 'pid', 'diffmaglim', 'isdiffpos', 'nid', 'distnr', 'magpsf', 'magpsf_corr', 'magap', 'sigmapsf', 'sigmapsf_corr', 'sigmapsf_corr_ext', 'sigmagap', 'ra', 'dec', 'rb', 'drb', 'magapbig', 'sigmagapbig', 'rfid', 'has_stamp', 'corrected', 'dubious', 'step_id_corr', 'phase', 'parent_candid'])"
      ]
     },
     "execution_count": 39,
     "metadata": {},
     "output_type": "execute_result"
    }
   ],
   "source": [
    "detections[0].keys()"
   ]
  },
  {
   "cell_type": "code",
   "execution_count": 42,
   "id": "3e890aed",
   "metadata": {},
   "outputs": [
    {
     "data": {
      "text/plain": [
       "dict_keys(['tid', 'mjd', 'fid', 'diffmaglim'])"
      ]
     },
     "execution_count": 42,
     "metadata": {},
     "output_type": "execute_result"
    }
   ],
   "source": [
    "non_detections[0].keys()"
   ]
  },
  {
   "cell_type": "code",
   "execution_count": 43,
   "id": "789c020b",
   "metadata": {},
   "outputs": [
    {
     "data": {
      "text/plain": [
       "dict_keys(['candid', 'tid', 'pid', 'oid', 'mjd', 'fid', 'ra', 'e_ra', 'dec', 'e_dec', 'mag', 'e_mag', 'mag_corr', 'e_mag_corr', 'e_mag_corr_ext', 'isdiffpos', 'corrected', 'dubious', 'parent_candid', 'has_stamp', 'scibckgnd', 'exptime', 'magnr', 'scisigpix', 'adpctdif1', 'sigmagnr', 'magzpsci', 'adpctdif2', 'chinr', 'diffmaglim', 'programid', 'sharpnr', 'field', 'magzpsciunc', 'procstatus', 'rcid', 'magzpscirms', 'distnr', 'rfid', 'clrcoeff', 'ranr', 'sciinpseeing', 'clrcounc', 'decnr'])"
      ]
     },
     "execution_count": 43,
     "metadata": {},
     "output_type": "execute_result"
    }
   ],
   "source": [
    "non_detections_forced[0].keys()"
   ]
  },
  {
   "cell_type": "code",
   "execution_count": 46,
   "id": "de79ee32",
   "metadata": {},
   "outputs": [
    {
     "data": {
      "text/plain": [
       "dict_keys(['detections', 'non_detections'])"
      ]
     },
     "execution_count": 46,
     "metadata": {},
     "output_type": "execute_result"
    }
   ],
   "source": [
    "lightcurve.keys()"
   ]
  },
  {
   "cell_type": "code",
   "execution_count": null,
   "id": "acfcd8bc",
   "metadata": {},
   "outputs": [],
   "source": [
    "def plot_lightcurves(oid: str,\n",
    "                     file1: str = \"all_alert_lightcurves_clean.csv\",\n",
    "                     file2: str = \"lc_consolidated.csv\") -> None:\n",
    "    \"\"\"\n",
    "    Carga dos CSVs de curvas de luz, filtra por el oid dado\n",
    "    y plotea ambas series de magpsf vs mjd en un mismo gráfico.\n",
    "    \"\"\"\n",
    "    # 1. Leer los CSVs\n",
    "    df1 = pd.read_csv(file1, dtype={\"oid\": str})\n",
    "    df2 = pd.read_csv(file2, dtype={\"oid\": str})\n",
    "\n",
    "    # 2. Filtrar por el oid\n",
    "    df1_oid = df1[df1[\"oid\"] == oid]\n",
    "    df2_oid = df2[df2[\"oid\"] == oid]\n",
    "\n",
    "    # 3. Crear el gráfico\n",
    "    plt.figure(figsize=(10, 6))\n",
    "    plt.plot(df1_oid[\"mjd\"], df1_oid[\"magpsf\"],\n",
    "             marker=\"o\", linestyle=\"-\", label=\"all_alert_lightcurves_clean\")\n",
    "    plt.plot(df2_oid[\"mjd\"], df2_oid[\"magpsf\"],\n",
    "             marker=\"s\", linestyle=\"--\", label=\"lc_consolidated\")\n",
    "\n",
    "    # Magnitudes astronómicas van al revés\n",
    "    plt.gca().invert_yaxis()\n",
    "\n",
    "    # Etiquetas y leyenda\n",
    "    plt.xlabel(\"MJD\")\n",
    "    plt.ylabel(\"magpsf\")\n",
    "    plt.title(f\"Curvas de luz para {oid}\")\n",
    "    plt.legend()\n",
    "    plt.grid(True)\n",
    "    plt.tight_layout()\n",
    "\n",
    "    # Mostrar\n",
    "    plt.show()"
   ]
  },
  {
   "cell_type": "code",
   "execution_count": 53,
   "id": "ca11ecc4",
   "metadata": {},
   "outputs": [
    {
     "name": "stderr",
     "output_type": "stream",
     "text": [
      "C:\\Users\\Benjamin\\AppData\\Local\\Temp\\ipykernel_20188\\3147114501.py:10: DtypeWarning: Columns (1) have mixed types. Specify dtype option on import or set low_memory=False.\n",
      "  df2 = pd.read_csv(file2, dtype={\"oid\": str})\n"
     ]
    },
    {
     "data": {
      "image/png": "[encoded data removed]",
      "text/plain": [
       "<Figure size 1000x600 with 1 Axes>"
      ]
     },
     "metadata": {},
     "output_type": "display_data"
    }
   ],
   "source": [
    "plot_lightcurves(\"ZTF18aagaypc\")"
   ]
  },
  {
   "cell_type": "code",
   "execution_count": null,
   "id": "c538a5c1",
   "metadata": {},
   "outputs": [],
   "source": [
    "df.to_parquet(\n",
    "    \"labels.parquet\",\n",
    "    engine=\"pyarrow\",        # o \"fastparquet\"\n",
    "    compression=\"snappy\"     # u otro compresor\n",
    ")"
   ]
  }
 ],
 "metadata": {
  "kernelspec": {
   "display_name": "astroinf",
   "language": "python",
   "name": "python3"
  },
  "language_info": {
   "codemirror_mode": {
    "name": "ipython",
    "version": 3
   },
   "file_extension": ".py",
   "mimetype": "text/x-python",
   "name": "python",
   "nbconvert_exporter": "python",
   "pygments_lexer": "ipython3",
   "version": "3.13.5"
  }
 },
 "nbformat": 4,
 "nbformat_minor": 5
}
